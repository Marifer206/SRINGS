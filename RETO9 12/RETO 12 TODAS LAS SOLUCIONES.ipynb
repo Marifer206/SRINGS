{
 "cells": [
  {
   "attachments": {},
   "cell_type": "markdown",
   "metadata": {},
   "source": [
    "PUNTO # 1"
   ]
  },
  {
   "cell_type": "code",
   "execution_count": 6,
   "metadata": {},
   "outputs": [
    {
     "name": "stdout",
     "output_type": "stream",
     "text": [
      "La cantidad de vocales en el texto es: 22450\n",
      "La cantidad de vocales en la palabra abecedario es 6\n"
     ]
    }
   ],
   "source": [
    "def contar_vocales(texto: str):\n",
    "    # Inicializamos el contador de vocales en 0\n",
    "    vocales = 0\n",
    "\n",
    "    # Iteramos sobre cada letra en el texto\n",
    "    for letra in texto:\n",
    "        # Verificamos si la letra está en el conjunto de vocales, tanto en minúsculas como en mayúsculas\n",
    "        if letra in \"aeiouAEIOU\":\n",
    "            # Si la letra es una vocal, incrementamos el contador de vocales en 1\n",
    "            vocales += 1\n",
    "    \n",
    "    # Devolvemos el total de vocales encontradas en el texto\n",
    "    return vocales\n",
    "\n",
    "# Abre el archivo \"mbox-short.txt\" en modo lectura\n",
    "with open(\"mbox-short.txt\", 'r') as file:\n",
    "    # Lee todo el contenido del archivo y lo guarda en la variable \"texto\"\n",
    "    texto = file.read()\n",
    "\n",
    "# Llama a la función contar_vocales con el contenido del archivo como argumento\n",
    "cantidad_vocales = contar_vocales(texto)\n",
    "\n",
    "# Imprime la cantidad de vocales en el texto\n",
    "print(\"La cantidad de vocales en el texto es: \" + str(cantidad_vocales))\n",
    "\n",
    "# Prueba adicional de la función contar_vocales con la palabra \"abecedario\"\n",
    "prueba = contar_vocales(\"abecedario\")\n",
    "print(\"La cantidad de vocales en la palabra abecedario es \" + str(prueba))\n"
   ]
  },
  {
   "attachments": {},
   "cell_type": "markdown",
   "metadata": {},
   "source": [
    "PUNTO # 2"
   ]
  },
  {
   "cell_type": "code",
   "execution_count": 10,
   "metadata": {},
   "outputs": [
    {
     "name": "stdout",
     "output_type": "stream",
     "text": [
      "La cantidad de consonantes en el texto es: 36063\n",
      "La cantidad de consonantes en la palabra abecedario es 4\n"
     ]
    }
   ],
   "source": [
    "def contar_consonantes(texto: str):\n",
    "    # Inicializamos el contador de consonantes en 0\n",
    "    consonantes = 0\n",
    "\n",
    "    # Iteramos sobre cada letra en el texto\n",
    "    for letra in texto:\n",
    "        # Verificamos si la letra es un carácter alfabético y no es una vocal\n",
    "        if letra.isalpha() and letra not in \"aeiouAEIOU\":\n",
    "            # Si la letra es una consonante, incrementamos el contador de consonantes en 1\n",
    "            consonantes += 1\n",
    "\n",
    "    # Devolvemos el total de consonantes encontradas en el texto\n",
    "    return consonantes\n",
    "\n",
    "# Abre el archivo \"mbox-short.txt\" en modo lectura\n",
    "with open(\"mbox-short.txt\", 'r') as file:\n",
    "    # Lee todo el contenido del archivo y lo guarda en la variable \"texto\"\n",
    "    texto = file.read()\n",
    "\n",
    "# Llama a la función contar_consonantes con el contenido del archivo como argumento\n",
    "cantidad_consonantes = contar_consonantes(texto)\n",
    "\n",
    "# Imprime la cantidad de consonantes en el texto\n",
    "print(\"La cantidad de consonantes en el texto es: \" + str(cantidad_consonantes))\n",
    "\n",
    "# Prueba adicional de la función contar_consonantes con la palabra \"abecedario\"\n",
    "prueba = contar_consonantes(\"abecedario\")\n",
    "print(\"La cantidad de consonantes en la palabra abecedario es \" + str(prueba))\n"
   ]
  },
  {
   "attachments": {},
   "cell_type": "markdown",
   "metadata": {},
   "source": [
    "PUNTO # 3"
   ]
  },
  {
   "cell_type": "code",
   "execution_count": 16,
   "metadata": {},
   "outputs": [
    {
     "name": "stdout",
     "output_type": "stream",
     "text": [
      "La palabra edu se repite 461 veces en el texto\n",
      "La palabra jan se repite 352 veces en el texto\n",
      "La palabra sakaiproject se repite 340 veces en el texto\n",
      "La palabra org se repite 340 veces en el texto\n",
      "La palabra from se repite 326 veces en el texto\n",
      "La palabra by se repite 272 veces en el texto\n",
      "La palabra collab se repite 270 veces en el texto\n",
      "La palabra x se repite 259 veces en el texto\n",
      "La palabra fri se repite 245 veces en el texto\n",
      "La palabra received se repite 243 veces en el texto\n",
      "La palabra iupui se repite 227 veces en el texto\n",
      "La palabra ac se repite 220 veces en el texto\n",
      "La palabra umich se repite 218 veces en el texto\n",
      "La palabra id se repite 217 veces en el texto\n",
      "La palabra source se repite 203 veces en el texto\n",
      "La palabra with se repite 194 veces en el texto\n",
      "La palabra uk se repite 193 veces en el texto\n",
      "La palabra uhi se repite 189 veces en el texto\n",
      "La palabra nakamura se repite 189 veces en el texto\n",
      "La palabra uits se repite 189 veces en el texto\n",
      "La palabra java se repite 160 veces en el texto\n",
      "La palabra src se repite 157 veces en el texto\n",
      "La palabra tool se repite 148 veces en el texto\n",
      "La palabra content se repite 119 veces en el texto\n",
      "La palabra for se repite 119 veces en el texto\n",
      "La palabra m se repite 112 veces en el texto\n",
      "La palabra mail se repite 108 veces en el texto\n",
      "La palabra esmtp se repite 108 veces en el texto\n",
      "La palabra paploo se repite 108 veces en el texto\n",
      "La palabra dspam se repite 108 veces en el texto\n",
      "La palabra app se repite 94 veces en el texto\n",
      "La palabra sakai se repite 93 veces en el texto\n",
      "La palabra site se repite 88 veces en el texto\n",
      "La palabra text se repite 83 veces en el texto\n",
      "La palabra message se repite 82 veces en el texto\n",
      "La palabra mr se repite 81 veces en el texto\n",
      "La palabra itd se repite 81 veces en el texto\n",
      "La palabra localhost se repite 81 veces en el texto\n",
      "La palabra gmt se repite 81 veces en el texto\n",
      "La palabra type se repite 81 veces en el texto\n",
      "La palabra plain se repite 81 veces en el texto\n",
      "La palabra charset se repite 81 veces en el texto\n",
      "La palabra utf se repite 81 veces en el texto\n",
      "La palabra to se repite 71 veces en el texto\n",
      "La palabra thu se repite 71 veces en el texto\n",
      "La palabra trunk se repite 68 veces en el texto\n",
      "La palabra gradebook se repite 67 veces en el texto\n",
      "La palabra ui se repite 64 veces en el texto\n",
      "La palabra sak se repite 62 veces en el texto\n",
      "La palabra branches se repite 60 veces en el texto\n",
      "La palabra podcasts se repite 60 veces en el texto\n",
      "None\n"
     ]
    }
   ],
   "source": [
    "def palabras_repetidas(texto: str):\n",
    "    # Convertimos todo el texto a minúsculas\n",
    "    texto = texto.lower()\n",
    "\n",
    "    # Diccionario para almacenar el número de ocurrencias de cada palabra\n",
    "    numero_de_palabras = {}\n",
    "\n",
    "    # Reemplazamos los caracteres que no son letras ni espacios por espacios en blanco\n",
    "    for s in texto:\n",
    "        if not s.isalpha() and s != \" \":\n",
    "            texto = texto.replace(s, \" \")\n",
    "\n",
    "    # Dividimos el texto en palabras individuales\n",
    "    archivo = texto.split()\n",
    "\n",
    "    # Contamos el número de ocurrencias de cada palabra\n",
    "    for l in archivo:\n",
    "        # Si la palabra aún no está en el diccionario, la inicializamos en 0\n",
    "        if l not in numero_de_palabras:\n",
    "            numero_de_palabras[l] = 0\n",
    "        # Incrementamos el contador de ocurrencias de la palabra\n",
    "        numero_de_palabras[l] += 1\n",
    "\n",
    "    # Imprimimos las palabras más repetidas (hasta las 50 más repetidas)\n",
    "    for s in sorted(numero_de_palabras, reverse=True, key=lambda s: numero_de_palabras[s])[:51]:\n",
    "        print(\"La palabra {} se repite {} veces en el texto\".format(s, numero_de_palabras[s]))\n",
    "\n",
    "\n",
    "with open(\"mbox-short.txt\", 'r') as file:\n",
    "    # Leemos el contenido del archivo y lo guardamos en la variable \"txt\"\n",
    "    txt = file.read()\n",
    "    # Llamamos a la función palabras_repetidas pasando el contenido del archivo como argumento\n",
    "    palabras_repetidas(txt)\n",
    "    "
   ]
  },
  {
   "attachments": {},
   "cell_type": "markdown",
   "metadata": {},
   "source": [
    "PUNTO # 4"
   ]
  },
  {
   "cell_type": "code",
   "execution_count": 19,
   "metadata": {},
   "outputs": [
    {
     "name": "stdout",
     "output_type": "stream",
     "text": [
      "El destinatario frankenstein.mail.umich.edu aparece 27 veces en el texto\n",
      "El destinatario flawless.mail.umich.edu aparece 3 veces en el texto\n",
      "El destinatario holes.mr.itd.umich.edu aparece 4 veces en el texto\n",
      "El destinatario paploo.uhi.ac.uk aparece 54 veces en el texto\n",
      "El destinatario shmi.uhi.ac.uk aparece 27 veces en el texto\n",
      "El destinatario nakamura.uits.iupui.edu aparece 27 veces en el texto\n",
      "El destinatario sleepers.mail.umich.edu aparece 3 veces en el texto\n",
      "El destinatario icestorm.mr.itd.umich.edu aparece 2 veces en el texto\n",
      "El destinatario panther.mail.umich.edu aparece 5 veces en el texto\n",
      "El destinatario ghostbusters.mr.itd.umich.edu aparece 1 veces en el texto\n",
      "El destinatario dreamcatcher.mr.itd.umich.edu aparece 1 veces en el texto\n",
      "El destinatario fan.mail.umich.edu aparece 5 veces en el texto\n",
      "El destinatario firestarter.mr.itd.umich.edu aparece 2 veces en el texto\n",
      "El destinatario mission.mail.umich.edu aparece 1 veces en el texto\n",
      "El destinatario eyewitness.mr.itd.umich.edu aparece 2 veces en el texto\n",
      "El destinatario tadpole.mr.itd.umich.edu aparece 1 veces en el texto\n",
      "El destinatario it.mr.itd.umich.edu aparece 1 veces en el texto\n",
      "El destinatario godsend.mail.umich.edu aparece 1 veces en el texto\n",
      "El destinatario creepshow.mr.itd.umich.edu aparece 2 veces en el texto\n",
      "El destinatario carrie.mr.itd.umich.edu aparece 1 veces en el texto\n",
      "El destinatario faithful.mail.umich.edu aparece 3 veces en el texto\n",
      "El destinatario shining.mr.itd.umich.edu aparece 1 veces en el texto\n",
      "El destinatario guys.mr.itd.umich.edu aparece 2 veces en el texto\n",
      "El destinatario casino.mail.umich.edu aparece 1 veces en el texto\n",
      "El destinatario score.mail.umich.edu aparece 1 veces en el texto\n",
      "El destinatario galaxyquest.mr.itd.umich.edu aparece 2 veces en el texto\n",
      "El destinatario workinggirl.mr.itd.umich.edu aparece 1 veces en el texto\n",
      "El destinatario salemslot.mr.itd.umich.edu aparece 3 veces en el texto\n",
      "El destinatario jacknife.mail.umich.edu aparece 3 veces en el texto\n",
      "El destinatario anniehall.mr.itd.umich.edu aparece 1 veces en el texto\n",
      "El destinatario chaos.mail.umich.edu aparece 1 veces en el texto\n"
     ]
    }
   ],
   "source": [
    "def destino(texto: str):\n",
    "    # Dividimos el texto en palabras\n",
    "    palabras = texto.split()\n",
    "\n",
    "    # Diccionario para almacenar el número de ocurrencias de cada destinatario\n",
    "    destinatario = {}\n",
    "\n",
    "    for i in range(1, len(palabras)):\n",
    "        # Verificamos si la palabra actual es \"by\" o \"BY\" y si la palabra anterior contiene un punto (indicando un posible destinatario)\n",
    "        if (palabras[i] == \"by\" or palabras[i] == \"BY\") and \".\" in palabras[i-1]:\n",
    "            if palabras[i+1] in destinatario:\n",
    "                # Si el destinatario ya existe en el diccionario, incrementamos su contador en 1\n",
    "                destinatario[palabras[i+1]] += 1\n",
    "            else:\n",
    "                # Si el destinatario no existe en el diccionario, lo agregamos con un contador inicial de 1\n",
    "                destinatario[palabras[i+1]] = 1\n",
    "\n",
    "    # Convertimos el diccionario a una lista de tuplas (destinatario, contador)\n",
    "    listado = list(destinatario.items())\n",
    "\n",
    "    return listado\n",
    "\n",
    "with open(\"mbox-short.txt\", \"r\") as file:\n",
    "    # Leemos el contenido del archivo y llamamos a la función destino pasando el texto como argumento\n",
    "    nombres = destino(file.read())\n",
    "    for nombre, contador in nombres:\n",
    "        # Imprimimos cada destinatario y su contador en un formato agradable\n",
    "        print(\"El destinatario {} aparece {} veces en el texto\".format(nombre, contador))\n"
   ]
  },
  {
   "attachments": {},
   "cell_type": "markdown",
   "metadata": {},
   "source": []
  },
  {
   "cell_type": "code",
   "execution_count": 21,
   "metadata": {},
   "outputs": [
    {
     "name": "stdout",
     "output_type": "stream",
     "text": [
      "Se enviaron 9 mensajes el 5 de enero, 2008\n",
      "Se enviaron 183 mensajes el 4 de enero, 2008\n",
      "Se enviaron 51 mensajes el 3 de enero, 2008\n"
     ]
    }
   ],
   "source": [
    "def contar_mensajes_diarios(texto: str):\n",
    "    mensaje = []  # Lista para almacenar los segmentos de mensajes\n",
    "    palabras = texto.split()  # Dividimos el texto en palabras\n",
    "\n",
    "    for i in range(len(palabras)):\n",
    "        if palabras[i] == \"Received:\":  # Verificamos si encontramos la palabra \"Received:\"\n",
    "            segmento = []\n",
    "            while palabras[i] != \"-0500\" and palabras[i] != \"(GMT)\":  # Iteramos hasta encontrar el final del segmento\n",
    "                segmento.append(palabras[i])  # Añadimos cada palabra al segmento\n",
    "                i += 1\n",
    "            mensaje.append(segmento)  # Añadimos el segmento a la lista de mensajes\n",
    "\n",
    "    m_dia = {}  # Diccionario para almacenar el número de mensajes por día\n",
    "\n",
    "    for segmento in mensaje:\n",
    "        indice = segmento.index('Jan')  # Obtenemos el índice de la palabra 'Jan'\n",
    "        dia = int(segmento[indice - 1])  # Obtenemos el día anterior a 'Jan' y lo convertimos a entero\n",
    "        if dia in m_dia:\n",
    "            m_dia[dia] += 1  # Si el día ya existe en el diccionario, incrementamos su contador\n",
    "        else:\n",
    "            m_dia[dia] = 1  # Si el día no existe en el diccionario, lo inicializamos en 1\n",
    "\n",
    "    return m_dia\n",
    "\n",
    "\n",
    "with open(\"mbox-short.txt\", \"r\") as file:\n",
    "    # Abrimos el archivo \"programacion.txt\" en modo lectura\n",
    "    # y leemos su contenido en la variable \"texto\"\n",
    "\n",
    "    m_dia = contar_mensajes_diarios(file.read())\n",
    "    # Llamamos a la función contar_mensajes_diarios pasando el contenido del archivo como argumento\n",
    "    # y guardamos el resultado en la variable \"m_dia\"\n",
    "\n",
    "    for dia in m_dia:\n",
    "        print(f\"Se enviaron {m_dia[dia]} mensajes el {dia} de enero, 2008\")\n",
    "        # Imprimimos el número de mensajes enviados para cada día en un formato legible\n",
    "\n"
   ]
  }
 ],
 "metadata": {
  "kernelspec": {
   "display_name": "Python 3",
   "language": "python",
   "name": "python3"
  },
  "language_info": {
   "codemirror_mode": {
    "name": "ipython",
    "version": 3
   },
   "file_extension": ".py",
   "mimetype": "text/x-python",
   "name": "python",
   "nbconvert_exporter": "python",
   "pygments_lexer": "ipython3",
   "version": "3.10.11"
  },
  "orig_nbformat": 4
 },
 "nbformat": 4,
 "nbformat_minor": 2
}
